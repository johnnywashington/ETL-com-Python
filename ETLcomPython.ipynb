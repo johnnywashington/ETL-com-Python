{
  "nbformat": 4,
  "nbformat_minor": 0,
  "metadata": {
    "colab": {
      "provenance": [],
      "authorship_tag": "ABX9TyNrVet03f2n/ErMWucozkJ0",
      "include_colab_link": true
    },
    "kernelspec": {
      "name": "python3",
      "display_name": "Python 3"
    },
    "language_info": {
      "name": "python"
    }
  },
  "cells": [
    {
      "cell_type": "markdown",
      "metadata": {
        "id": "view-in-github",
        "colab_type": "text"
      },
      "source": [
        "<a href=\"https://colab.research.google.com/github/johnnywashington/ETL-com-Python/blob/main/ETLcomPython.ipynb\" target=\"_parent\"><img src=\"https://colab.research.google.com/assets/colab-badge.svg\" alt=\"Open In Colab\"/></a>"
      ]
    },
    {
      "cell_type": "markdown",
      "source": [
        "# Desafio de ETL com Python\n"
      ],
      "metadata": {
        "id": "BPJQsTCULaC-"
      }
    },
    {
      "cell_type": "code",
      "source": [
        "\n",
        "# Repositório da API: https://github.com/digitalinnovationone/santander-dev-week-2023-api\n",
        "sdw2023_api_url = 'https://sdw-2023-prd.up.railway.app'"
      ],
      "metadata": {
        "id": "FKqLC_CWoYqR"
      },
      "execution_count": null,
      "outputs": []
    },
    {
      "cell_type": "markdown",
      "source": [
        "## **E**xtract\n",
        "\n",
        "Extraia a lista de IDs de usuário a partir do arquivo CSV. Para cada ID, faça uma requisição GET para obter os dados do usuário correspondente."
      ],
      "metadata": {
        "id": "9dfI-o7gLRq9"
      }
    },
    {
      "cell_type": "code",
      "execution_count": null,
      "metadata": {
        "id": "NYydpX_GLRCB",
        "colab": {
          "base_uri": "https://localhost:8080/"
        },
        "outputId": "730c4d4b-93aa-4d0b-e163-3f9b12a2912c"
      },
      "outputs": [
        {
          "output_type": "stream",
          "name": "stdout",
          "text": [
            "[4, 5, 6]\n"
          ]
        }
      ],
      "source": [
        "import pandas as pd\n",
        "\n",
        "df = pd.read_csv('/content/Ids_dio.csv')\n",
        "user_ids = df['UserID'].tolist()\n",
        "print(user_ids)"
      ]
    },
    {
      "cell_type": "code",
      "source": [
        "import requests\n",
        "import json\n",
        "\n",
        "def get_user(id):\n",
        "  response = requests.get(f'{sdw2023_api_url}/users/{id}')\n",
        "  return response.json() if response.status_code == 200 else None\n",
        "\n",
        "users = [user for id in user_ids if (user := get_user(id)) is not None]\n",
        "print(json.dumps(users, indent=2))"
      ],
      "metadata": {
        "id": "F5XOuCZGSTGw"
      },
      "execution_count": null,
      "outputs": []
    },
    {
      "cell_type": "markdown",
      "source": [
        "## **T**ransform\n",
        "\n",
        "Utilize a API do OpenAI GPT-4 para gerar uma mensagem de marketing personalizada para cada usuário."
      ],
      "metadata": {
        "id": "cWoqInB4TF1x"
      }
    },
    {
      "cell_type": "code",
      "source": [
        "!pip install openai"
      ],
      "metadata": {
        "id": "O--PCAObTQkK"
      },
      "execution_count": null,
      "outputs": []
    },
    {
      "cell_type": "code",
      "source": [
        "# Documentação Oficial da API OpenAI: https://platform.openai.com/docs/api-reference/introduction\n",
        "# Informações sobre o Período Gratuito: https://help.openai.com/en/articles/4936830\n",
        "\n",
        "# Para gerar uma API Key:\n",
        "# 1. Crie uma conta na OpenAI\n",
        "# 2. Acesse a seção \"API Keys\"\n",
        "# 3. Clique em \"Create API Key\"\n",
        "# Link direto: https://platform.openai.com/account/api-keys\n",
        "\n",
        "# Substitua o texto TODO por sua API Key da OpenAI, ela será salva como uma variável de ambiente.\n",
        "openai_api_key = 'TODO'"
      ],
      "metadata": {
        "id": "sUB1doiDTX3y"
      },
      "execution_count": null,
      "outputs": []
    },
    {
      "cell_type": "code",
      "source": [
        "import openai\n",
        "\n",
        "openai.api_key = openai_api_key\n",
        "\n",
        "def generate_ai_news(user):\n",
        "  completion = openai.ChatCompletion.create(\n",
        "    model=\"gpt-4\",\n",
        "    messages=[\n",
        "      {\n",
        "          \"role\": \"system\",\n",
        "          \"content\": \"Você é um especialista em markting bancário.\"\n",
        "      },\n",
        "      {\n",
        "          \"role\": \"user\",\n",
        "          \"content\": f\"Crie uma mensagem para {user['name']} sobre a importância dos investimentos (máximo de 100 caracteres)\"\n",
        "      }\n",
        "    ]\n",
        "  )\n",
        "  return completion.choices[0].message.content.strip('\\\"')\n",
        "\n",
        "for user in users:\n",
        "  news = generate_ai_news(user)\n",
        "  print(news)\n",
        "  user['news'].append({\n",
        "      \"icon\": \"https://digitalinnovationone.github.io/santander-dev-week-2023-api/icons/credit.svg\",\n",
        "      \"description\": news\n",
        "  })"
      ],
      "metadata": {
        "id": "n1w78kNxTrZY"
      },
      "execution_count": null,
      "outputs": []
    },
    {
      "cell_type": "markdown",
      "source": [
        "## **L**oad\n",
        "\n",
        "Atualize a lista de \"news\" de cada usuário na API com a nova mensagem gerada."
      ],
      "metadata": {
        "id": "kNuP0SDUZMBY"
      }
    },
    {
      "cell_type": "code",
      "source": [
        "def update_user(user):\n",
        "  response = requests.put(f\"{sdw2023_api_url}/users/{user['id']}\", json=user)\n",
        "  return True if response.status_code == 200 else False\n",
        "\n",
        "for user in users:\n",
        "  success = update_user(user)\n",
        "  print(f\"User {user['name']} updated? {success}!\")"
      ],
      "metadata": {
        "id": "YefWfYBoZMN2"
      },
      "execution_count": null,
      "outputs": []
    },
    {
      "cell_type": "code",
      "source": [],
      "metadata": {
        "id": "PKwEB_wQ0jwg"
      },
      "execution_count": null,
      "outputs": []
    }
  ]
}